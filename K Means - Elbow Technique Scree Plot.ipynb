{
 "cells": [
  {
   "cell_type": "code",
   "execution_count": 1,
   "metadata": {},
   "outputs": [],
   "source": [
    "# Clustering dataset\n",
    "# determine k using elbow method\n",
    "\n",
    "from sklearn.cluster import KMeans\n",
    "from sklearn import metrics\n",
    "from scipy.spatial.distance import cdist\n",
    "import numpy as np\n",
    "import matplotlib.pyplot as plt\n",
    "import pandas as pd"
   ]
  },
  {
   "cell_type": "code",
   "execution_count": 5,
   "metadata": {},
   "outputs": [
    {
     "data": {
      "text/html": [
       "<div>\n",
       "<style scoped>\n",
       "    .dataframe tbody tr th:only-of-type {\n",
       "        vertical-align: middle;\n",
       "    }\n",
       "\n",
       "    .dataframe tbody tr th {\n",
       "        vertical-align: top;\n",
       "    }\n",
       "\n",
       "    .dataframe thead th {\n",
       "        text-align: right;\n",
       "    }\n",
       "</style>\n",
       "<table border=\"1\" class=\"dataframe\">\n",
       "  <thead>\n",
       "    <tr style=\"text-align: right;\">\n",
       "      <th></th>\n",
       "      <th>col1</th>\n",
       "      <th>col2</th>\n",
       "    </tr>\n",
       "  </thead>\n",
       "  <tbody>\n",
       "    <tr>\n",
       "      <th>0</th>\n",
       "      <td>3</td>\n",
       "      <td>5</td>\n",
       "    </tr>\n",
       "    <tr>\n",
       "      <th>1</th>\n",
       "      <td>1</td>\n",
       "      <td>4</td>\n",
       "    </tr>\n",
       "    <tr>\n",
       "      <th>2</th>\n",
       "      <td>1</td>\n",
       "      <td>5</td>\n",
       "    </tr>\n",
       "    <tr>\n",
       "      <th>3</th>\n",
       "      <td>2</td>\n",
       "      <td>6</td>\n",
       "    </tr>\n",
       "    <tr>\n",
       "      <th>4</th>\n",
       "      <td>1</td>\n",
       "      <td>5</td>\n",
       "    </tr>\n",
       "    <tr>\n",
       "      <th>5</th>\n",
       "      <td>6</td>\n",
       "      <td>18</td>\n",
       "    </tr>\n",
       "    <tr>\n",
       "      <th>6</th>\n",
       "      <td>6</td>\n",
       "      <td>16</td>\n",
       "    </tr>\n",
       "    <tr>\n",
       "      <th>7</th>\n",
       "      <td>6</td>\n",
       "      <td>17</td>\n",
       "    </tr>\n",
       "    <tr>\n",
       "      <th>8</th>\n",
       "      <td>5</td>\n",
       "      <td>15</td>\n",
       "    </tr>\n",
       "    <tr>\n",
       "      <th>9</th>\n",
       "      <td>6</td>\n",
       "      <td>14</td>\n",
       "    </tr>\n",
       "    <tr>\n",
       "      <th>10</th>\n",
       "      <td>7</td>\n",
       "      <td>1</td>\n",
       "    </tr>\n",
       "    <tr>\n",
       "      <th>11</th>\n",
       "      <td>8</td>\n",
       "      <td>2</td>\n",
       "    </tr>\n",
       "    <tr>\n",
       "      <th>12</th>\n",
       "      <td>9</td>\n",
       "      <td>1</td>\n",
       "    </tr>\n",
       "    <tr>\n",
       "      <th>13</th>\n",
       "      <td>8</td>\n",
       "      <td>2</td>\n",
       "    </tr>\n",
       "    <tr>\n",
       "      <th>14</th>\n",
       "      <td>9</td>\n",
       "      <td>3</td>\n",
       "    </tr>\n",
       "    <tr>\n",
       "      <th>15</th>\n",
       "      <td>9</td>\n",
       "      <td>2</td>\n",
       "    </tr>\n",
       "    <tr>\n",
       "      <th>16</th>\n",
       "      <td>8</td>\n",
       "      <td>3</td>\n",
       "    </tr>\n",
       "  </tbody>\n",
       "</table>\n",
       "</div>"
      ],
      "text/plain": [
       "    col1  col2\n",
       "0      3     5\n",
       "1      1     4\n",
       "2      1     5\n",
       "3      2     6\n",
       "4      1     5\n",
       "5      6    18\n",
       "6      6    16\n",
       "7      6    17\n",
       "8      5    15\n",
       "9      6    14\n",
       "10     7     1\n",
       "11     8     2\n",
       "12     9     1\n",
       "13     8     2\n",
       "14     9     3\n",
       "15     9     2\n",
       "16     8     3"
      ]
     },
     "execution_count": 5,
     "metadata": {},
     "output_type": "execute_result"
    }
   ],
   "source": [
    "x1 = [3, 1, 1, 2, 1, 6, 6, 6, 5, 6, 7, 8, 9, 8, 9, 9, 8]\n",
    "x2 = [5, 4, 5, 6, 5, 18, 16, 17, 15, 14, 1, 2, 1, 2, 3, 2, 3]\n",
    "x = {'col1':x1,'col2':x2}\n",
    "\n",
    "X = pd.DataFrame(x)\n",
    "X\n"
   ]
  },
  {
   "cell_type": "code",
   "execution_count": 6,
   "metadata": {},
   "outputs": [
    {
     "data": {
      "image/png": "[encoded data removed]",
      "text/plain": [
       "<Figure size 432x288 with 1 Axes>"
      ]
     },
     "metadata": {
      "needs_background": "light"
     },
     "output_type": "display_data"
    }
   ],
   "source": [
    "plt.plot()\n",
    "plt.xlim([0, 20])\n",
    "plt.ylim([0, 20])\n",
    "plt.title('Dataset')\n",
    "plt.scatter(x1, x2)\n",
    "plt.show()"
   ]
  },
  {
   "cell_type": "code",
   "execution_count": 32,
   "metadata": {},
   "outputs": [],
   "source": [
    "# k means determine k\n",
    "distortions = []\n",
    "K = range(1,10)\n",
    "for k in K:\n",
    "    kmeanModel = KMeans(n_clusters=k).fit(X)\n",
    "    kmeanModel.fit(X)\n",
    "    distortions.append(\n",
    "        sum(np.min(cdist(X, kmeanModel.cluster_centers_, 'euclidean'), axis=1))**2 / X.shape[0])"
   ]
  },
  {
   "cell_type": "code",
   "execution_count": 33,
   "metadata": {},
   "outputs": [
    {
     "data": {
      "text/plain": [
       "array([[12.85496013,  5.85234996,  0.70710678,  9.82344135,  7.21110255,\n",
       "         2.02758751,  5.65685425, 11.40175425,  6.11918658],\n",
       "       [14.39618005,  7.56637298,  2.12132034, 11.42365966,  8.54400375,\n",
       "         0.66666667,  6.70820393, 13.        ,  7.6011695 ],\n",
       "       [13.46291202,  7.76208735,  1.58113883, 10.51189802,  8.94427191,\n",
       "         0.33333333,  7.21110255, 12.08304597,  7.92324288],\n",
       "       [12.17579566,  7.15891053,  0.70710678,  9.19238816,  8.60232527,\n",
       "         1.66666667,  7.07106781, 10.77032961,  7.49073502],\n",
       "       [13.46291202,  7.76208735,  1.58113883, 10.51189802,  8.94427191,\n",
       "         0.33333333,  7.21110255, 12.08304597,  7.92324288],\n",
       "       [ 0.5       , 15.20690633, 12.98075499,  3.53553391, 17.2626765 ,\n",
       "        14.24000624, 17.02938637,  2.        , 16.16924378],\n",
       "       [ 1.5       , 13.23820229, 11.06797181,  1.58113883, 15.29705854,\n",
       "        12.38726945, 15.03329638,  0.        , 14.19311257],\n",
       "       [ 0.5       , 14.22146265, 12.02081528,  2.54950976, 16.2788206 ,\n",
       "        13.30830985, 16.03121954,  1.        , 15.18039672],\n",
       "       [ 2.6925824 , 12.5       ,  9.82344135,  0.70710678, 14.56021978,\n",
       "        11.08051343, 14.14213562,  1.41421356, 13.42054809],\n",
       "       [ 3.5       , 11.28051417,  9.19238816,  0.70710678, 13.34166406,\n",
       "        10.58825345, 13.03840481,  2.        , 12.22474721],\n",
       "       [16.53027525,  2.5       ,  6.36396103, 13.58307771,  2.        ,\n",
       "         7.03167437,  0.        , 15.03329638,  1.66666667],\n",
       "       [15.62849961,  1.11803399,  6.51920241, 12.74754878,  1.41421356,\n",
       "         7.49073502,  1.41421356, 14.14213562,  0.33333333],\n",
       "       [16.77050983,  2.06155281,  7.90569415, 13.94632568,  0.        ,\n",
       "         8.80025252,  2.        , 15.29705854,  1.20185043],\n",
       "       [15.62849961,  1.11803399,  6.51920241, 12.74754878,  1.41421356,\n",
       "         7.49073502,  1.41421356, 14.14213562,  0.33333333],\n",
       "       [14.80709289,  0.5       ,  6.96419414, 12.02081528,  2.        ,\n",
       "         8.17176711,  2.82842712, 13.34166406,  1.20185043],\n",
       "       [15.7876534 ,  1.11803399,  7.38241153, 12.98075499,  1.        ,\n",
       "         8.43274043,  2.23606798, 14.31782106,  0.66666667],\n",
       "       [14.63728117,  0.5       ,  6.04152299, 11.7686023 ,  2.23606798,\n",
       "         7.19567771,  2.23606798, 13.15294644,  1.05409255]])"
      ]
     },
     "execution_count": 33,
     "metadata": {},
     "output_type": "execute_result"
    }
   ],
   "source": [
    "#Breaking down the for loop logic\n",
    "\n",
    "#The compute distance function output is as follows - a 17x9 Matrix \n",
    "#(Since the last kmeans in the for loop is run for 9 centroids)\n",
    "\n",
    "cdist(X,kmeanModel.cluster_centers_,'euclidean')"
   ]
  },
  {
   "cell_type": "code",
   "execution_count": 35,
   "metadata": {},
   "outputs": [
    {
     "data": {
      "text/plain": [
       "array([0.5       , 0.44444444, 0.11111111, 0.5       , 0.11111111,\n",
       "       0.25      , 0.        , 0.25      , 0.5       , 0.5       ,\n",
       "       0.        , 0.11111111, 0.        , 0.11111111, 0.25      ,\n",
       "       0.44444444, 0.25      ])"
      ]
     },
     "execution_count": 35,
     "metadata": {},
     "output_type": "execute_result"
    }
   ],
   "source": [
    "# Axis=1 calculates the minimum distance out of the 9 centroids for the 17 observations and square the value\n",
    "np.min(cdist(X,kmeanModel.cluster_centers_,'euclidean'),axis=1)**2"
   ]
  },
  {
   "cell_type": "code",
   "execution_count": 36,
   "metadata": {},
   "outputs": [
    {
     "data": {
      "text/plain": [
       "array([0.02941176, 0.02614379, 0.00653595, 0.02941176, 0.00653595,\n",
       "       0.01470588, 0.        , 0.01470588, 0.02941176, 0.02941176,\n",
       "       0.        , 0.00653595, 0.        , 0.00653595, 0.01470588,\n",
       "       0.02614379, 0.01470588])"
      ]
     },
     "execution_count": 36,
     "metadata": {},
     "output_type": "execute_result"
    }
   ],
   "source": [
    "#Divide the min squared distance by the total number of observations\n",
    "np.min(cdist(X,kmeanModel.cluster_centers_,'euclidean'),axis=1)**2 / X.shape[0]"
   ]
  },
  {
   "cell_type": "code",
   "execution_count": 37,
   "metadata": {},
   "outputs": [
    {
     "data": {
      "text/plain": [
       "0.25490196078431376"
      ]
     },
     "execution_count": 37,
     "metadata": {},
     "output_type": "execute_result"
    }
   ],
   "source": [
    "#Calculate the sum of squared distances - This is the distortion(WSS) for the kmeans model with 9 clusters\n",
    "sum(np.min(cdist(X,kmeanModel.cluster_centers_,'euclidean'),axis=1)**2 / X.shape[0])"
   ]
  },
  {
   "cell_type": "code",
   "execution_count": 38,
   "metadata": {},
   "outputs": [
    {
     "data": {
      "image/png": "[encoded data removed]",
      "text/plain": [
       "<Figure size 432x288 with 1 Axes>"
      ]
     },
     "metadata": {
      "needs_background": "light"
     },
     "output_type": "display_data"
    }
   ],
   "source": [
    "# Plot the elbow\n",
    "plt.plot(K, distortions, 'bx-')\n",
    "plt.xlabel('k')\n",
    "plt.ylabel('Distortion')\n",
    "plt.title('The Elbow Method showing the optimal k')\n",
    "plt.show()"
   ]
  },
  {
   "cell_type": "code",
   "execution_count": 9,
   "metadata": {},
   "outputs": [],
   "source": [
    "# Build kmeans clustering model using k=3\n",
    "\n",
    "kmeans = KMeans(n_clusters=3)"
   ]
  },
  {
   "cell_type": "markdown",
   "metadata": {},
   "source": [
    "Parameters\n",
    "----------\n",
    "\n",
    "n_clusters : int, optional, default: 8\n",
    "    The number of clusters to form as well as the number of\n",
    "    centroids to generate.\n",
    "    \n",
    "  <br>  <br>\n",
    "\n",
    "\n",
    "init : {'k-means++', 'random' or an ndarray}\n",
    "    Method for initialization, defaults to 'k-means++':\n",
    "\n",
    "    'k-means++' : selects initial cluster centers for k-mean\n",
    "    clustering in a smart way to speed up convergence. See section\n",
    "    Notes in k_init for more details.\n",
    "\n",
    "    'random': choose k observations (rows) at random from data for\n",
    "    the initial centroids.\n",
    "\n",
    "    If an ndarray is passed, it should be of shape (n_clusters, n_features)\n",
    "    and gives the initial centers.\n",
    "    \n",
    "  \n",
    "  <br>  <br>\n",
    "\n",
    "\n",
    "n_init : int, default: 10\n",
    "    Number of time the k-means algorithm will be run with different\n",
    "    centroid seeds. The final results will be the best output of\n",
    "    n_init consecutive runs in terms of inertia.\n",
    "    \n",
    "  <br>  <br>\n",
    "  \n",
    "\n",
    "max_iter : int, default: 300\n",
    "    Maximum number of iterations of the k-means algorithm for a\n",
    "    single run.\n",
    "    \n",
    "   <br>  <br>\n",
    "\n",
    "\n",
    "tol : float, default: 1e-4\n",
    "    Relative tolerance with regards to inertia to declare convergence\n",
    "\n",
    "  <br>  <br>\n",
    "\n",
    "\n",
    "\n",
    "precompute_distances : {'auto', True, False}\n",
    "    Precompute distances (faster but takes more memory).\n",
    "\n",
    "    'auto' : do not precompute distances if n_samples * n_clusters > 12\n",
    "    million. This corresponds to about 100MB overhead per job using\n",
    "    double precision.\n",
    "\n",
    "    True : always precompute distances\n",
    "\n",
    "    False : never precompute distances\n",
    "\n",
    "  <br>  <br>\n",
    "\n",
    "\n",
    "\n",
    "verbose : int, default 0\n",
    "    Verbosity mode. Whether to print log output or not\n",
    "\n",
    "\n",
    "  <br>  <br>\n",
    "\n",
    "\n",
    "random_state : int, RandomState instance or None (default)\n",
    "    Determines random number generation for centroid initialization. Use\n",
    "    an int to make the randomness deterministic.\n",
    "    See :term:`Glossary <random_state>`.\n",
    "\n",
    "\n",
    "  <br>  <br>\n",
    "\n",
    "\n",
    "copy_x : boolean, optional\n",
    "    When pre-computing distances it is more numerically accurate to center\n",
    "    the data first.  If copy_x is True (default), then the original data is\n",
    "    not modified, ensuring X is C-contiguous.  If False, the original data\n",
    "    is modified, and put back before the function returns, but small\n",
    "    numerical differences may be introduced by subtracting and then adding\n",
    "    the data mean, in this case it will also not ensure that data is\n",
    "    C-contiguous which may cause a significant slowdown.\n",
    "\n",
    "\n",
    "  <br>  <br>\n",
    "\n",
    "\n",
    "n_jobs : int or None, optional (default=None)\n",
    "    The number of jobs to use for the computation. This works by computing\n",
    "    each of the n_init runs in parallel.\n",
    "\n",
    "    ``None`` means 1 unless in a :obj:`joblib.parallel_backend` context.\n",
    "    ``-1`` means using all processors. See :term:`Glossary <n_jobs>`\n",
    "    for more details.\n",
    "\n",
    "  <br>  <br>\n",
    "\n",
    "\n",
    "algorithm : \"auto\", \"full\" or \"elkan\", default=\"auto\"\n",
    "    K-means algorithm to use. The classical EM-style algorithm is \"full\".\n",
    "    The \"elkan\" variation is more efficient by using the triangle\n",
    "    inequality, but currently doesn't support sparse data. \"auto\" chooses\n",
    "    \"elkan\" for dense data and \"full\" for sparse data."
   ]
  },
  {
   "cell_type": "code",
   "execution_count": 10,
   "metadata": {},
   "outputs": [
    {
     "data": {
      "text/plain": [
       "KMeans(algorithm='auto', copy_x=True, init='k-means++', max_iter=300,\n",
       "    n_clusters=3, n_init=10, n_jobs=None, precompute_distances='auto',\n",
       "    random_state=None, tol=0.0001, verbose=0)"
      ]
     },
     "execution_count": 10,
     "metadata": {},
     "output_type": "execute_result"
    }
   ],
   "source": [
    "kmeans.fit(X)"
   ]
  },
  {
   "cell_type": "code",
   "execution_count": 11,
   "metadata": {},
   "outputs": [
    {
     "data": {
      "text/plain": [
       "array([0, 0, 0, 0, 0, 1, 1, 1, 1, 1, 2, 2, 2, 2, 2, 2, 2])"
      ]
     },
     "execution_count": 11,
     "metadata": {},
     "output_type": "execute_result"
    }
   ],
   "source": [
    "clusters = kmeans.labels_\n",
    "clusters"
   ]
  },
  {
   "cell_type": "code",
   "execution_count": 12,
   "metadata": {},
   "outputs": [
    {
     "data": {
      "image/png": "[encoded data removed]",
      "text/plain": [
       "<Figure size 720x576 with 1 Axes>"
      ]
     },
     "metadata": {
      "needs_background": "light"
     },
     "output_type": "display_data"
    }
   ],
   "source": [
    "plt.figure(figsize=(10, 8))\n",
    "plt.scatter(x1, x2, c=clusters, cmap='prism')  # plot points with cluster dependent colors\n",
    "plt.show()"
   ]
  },
  {
   "cell_type": "code",
   "execution_count": 39,
   "metadata": {},
   "outputs": [
    {
     "data": {
      "text/plain": [
       "array([[ 1.6       ,  5.        ],\n",
       "       [ 5.8       , 16.        ],\n",
       "       [ 8.28571429,  2.        ]])"
      ]
     },
     "execution_count": 39,
     "metadata": {},
     "output_type": "execute_result"
    }
   ],
   "source": [
    "# Extract cluster centers and use them for re-running the KMeans algorithm again\n",
    "cluster_center = kmeans.cluster_centers_\n",
    "\n",
    "cluster_center"
   ]
  },
  {
   "cell_type": "code",
   "execution_count": 40,
   "metadata": {},
   "outputs": [
    {
     "name": "stderr",
     "output_type": "stream",
     "text": [
      "C:\\Users\\gurubagi\\Anaconda3\\lib\\site-packages\\sklearn\\cluster\\k_means_.py:971: RuntimeWarning: Explicit initial center position passed: performing only one init in k-means instead of n_init=10\n",
      "  return_n_iter=True)\n"
     ]
    },
    {
     "data": {
      "text/plain": [
       "KMeans(algorithm='auto', copy_x=True,\n",
       "    init=array([[ 1.6    ,  5.     ],\n",
       "       [ 5.8    , 16.     ],\n",
       "       [ 8.28571,  2.     ]]),\n",
       "    max_iter=300, n_clusters=3, n_init=10, n_jobs=None,\n",
       "    precompute_distances='auto', random_state=None, tol=0.0001, verbose=0)"
      ]
     },
     "execution_count": 40,
     "metadata": {},
     "output_type": "execute_result"
    }
   ],
   "source": [
    "# Provide the cluster center values as input for the second KMeans algorithm run\n",
    "\n",
    "kmeans = KMeans(n_clusters=3,init=cluster_center)\n",
    "kmeans.fit(X)\n"
   ]
  },
  {
   "cell_type": "code",
   "execution_count": 41,
   "metadata": {},
   "outputs": [
    {
     "data": {
      "text/plain": [
       "MiniBatchKMeans(batch_size=5, compute_labels=True, init='k-means++',\n",
       "        init_size=None, max_iter=100, max_no_improvement=10, n_clusters=3,\n",
       "        n_init=3, random_state=None, reassignment_ratio=0.01, tol=0.0,\n",
       "        verbose=0)"
      ]
     },
     "execution_count": 41,
     "metadata": {},
     "output_type": "execute_result"
    }
   ],
   "source": [
    "# Minibatch KMeans is an alternative to KMeans, which is effective for huge datasets\n",
    "\n",
    "from sklearn.cluster import MiniBatchKMeans\n",
    "\n",
    "minibatch_kmeans = MiniBatchKMeans(n_clusters=3, batch_size = 5)\n",
    "\n",
    "minibatch_kmeans.fit(X)"
   ]
  },
  {
   "cell_type": "code",
   "execution_count": 42,
   "metadata": {},
   "outputs": [],
   "source": [
    "# The above algorithm randomly picks up subsets of the original data according to the batch_size mentioned\n",
    "# It adjusts the centroids until the max_iterations are reached."
   ]
  },
  {
   "cell_type": "code",
   "execution_count": 43,
   "metadata": {},
   "outputs": [],
   "source": [
    "# Perform Silhoutte Analysis to validate Clusters\n",
    "\n",
    "from sklearn.metrics import silhouette_samples, silhouette_score"
   ]
  },
  {
   "cell_type": "markdown",
   "metadata": {},
   "source": [
    "The Silhouette Coefficient is a measure of how well samples are clustered\n",
    "with samples that are similar to themselves. Clustering models with a high\n",
    "Silhouette Coefficient are said to be dense, where samples in the same\n",
    "cluster are similar to each other, and well separated, where samples in\n",
    "different clusters are not very similar to each other.\n",
    "\n",
    "The Silhouette Coefficient is calculated using the mean intra-cluster\n",
    "distance (``a``) and the mean nearest-cluster distance (``b``) for each\n",
    "sample.  The Silhouette Coefficient for a sample is ``(b - a) / max(a,\n",
    "b)``.\n",
    "Note that Silhouette Coefficient is only defined if number of labels\n",
    "is 2 <= n_labels <= n_samples - 1.\n",
    "\n",
    "This function returns the Silhouette Coefficient for each sample.\n",
    "\n",
    "The best value is 1 and the worst value is -1. Values near 0 indicate\n",
    "overlapping clusters."
   ]
  },
  {
   "cell_type": "code",
   "execution_count": 44,
   "metadata": {},
   "outputs": [],
   "source": [
    "sil_score = silhouette_score(X,clusters)"
   ]
  },
  {
   "cell_type": "code",
   "execution_count": 45,
   "metadata": {},
   "outputs": [
    {
     "data": {
      "text/plain": [
       "0.8052079926817628"
      ]
     },
     "execution_count": 45,
     "metadata": {},
     "output_type": "execute_result"
    }
   ],
   "source": [
    "sil_score"
   ]
  },
  {
   "cell_type": "code",
   "execution_count": 46,
   "metadata": {},
   "outputs": [],
   "source": [
    "sil_samples = silhouette_samples(X,clusters)"
   ]
  },
  {
   "cell_type": "code",
   "execution_count": 47,
   "metadata": {},
   "outputs": [
    {
     "data": {
      "text/plain": [
       "array([0.6882728 , 0.78706863, 0.86070578, 0.78396829, 0.86070578,\n",
       "       0.81513349, 0.86488012, 0.85867586, 0.80571659, 0.74069591,\n",
       "       0.70147696, 0.85368052, 0.80147034, 0.85368052, 0.79095008,\n",
       "       0.84103515, 0.78041907])"
      ]
     },
     "execution_count": 47,
     "metadata": {},
     "output_type": "execute_result"
    }
   ],
   "source": [
    "sil_samples"
   ]
  }
 ],
 "metadata": {
  "kernelspec": {
   "display_name": "Python 3",
   "language": "python",
   "name": "python3"
  },
  "language_info": {
   "codemirror_mode": {
    "name": "ipython",
    "version": 3
   },
   "file_extension": ".py",
   "mimetype": "text/x-python",
   "name": "python",
   "nbconvert_exporter": "python",
   "pygments_lexer": "ipython3",
   "version": "3.7.0"
  }
 },
 "nbformat": 4,
 "nbformat_minor": 2
}
